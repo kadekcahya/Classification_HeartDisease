{
 "cells": [
  {
   "cell_type": "code",
   "execution_count": 1,
   "id": "bd5ea1e8",
   "metadata": {},
   "outputs": [],
   "source": [
    "import math\n",
    "from collections import Counter, defaultdict\n",
    "from functools import partial\n",
    "from pprint import pprint\n",
    "\n",
    "import matplotlib.pyplot as plt\n",
    "import numpy as np\n",
    "import pandas as pd\n",
    "import seaborn as sns\n",
    "from sklearn.metrics import confusion_matrix, ConfusionMatrixDisplay, \\\n",
    "                            classification_report\n",
    "from sklearn.model_selection import train_test_split\n",
    "from sklearn.preprocessing import StandardScaler, OrdinalEncoder, OneHotEncoder\n",
    "from sklearn.tree import DecisionTreeClassifier, plot_tree\n",
    "\n",
    "plt.style.use(\"fivethirtyeight\")"
   ]
  },
  {
   "cell_type": "markdown",
   "id": "818a82c5",
   "metadata": {},
   "source": [
    "### Dataset 1, Dummy dataset yaitu dataset yang berisi data kandidat yang diwawancarai yang berisikan informasi seperti level kandidat, bahasa pemrograman, dan lainnya, serta target variabel apakah kandidat tersebut diterima (True) atau tidak (False)"
   ]
  },
  {
   "cell_type": "code",
   "execution_count": 2,
   "id": "65c8bd34",
   "metadata": {},
   "outputs": [],
   "source": [
    "dummy_data = [\n",
    "    ({\"level\": \"Senior\", \"lang\": \"Java\", \"tweets\": \"no\", \"phd\": \"no\"}, False),\n",
    "    ({\"level\": \"Senior\", \"lang\": \"Java\", \"tweets\": \"no\", \"phd\": \"yes\"}, False),\n",
    "    ({\"level\": \"Mid\", \"lang\": \"Python\", \"tweets\": \"no\", \"phd\": \"no\"}, True),\n",
    "    ({\"level\": \"Junior\", \"lang\": \"Python\", \"tweets\": \"no\", \"phd\": \"no\"}, True),\n",
    "    ({\"level\": \"Junior\", \"lang\": \"R\", \"tweets\": \"yes\", \"phd\": \"no\"}, True),\n",
    "    ({\"level\": \"Junior\", \"lang\": \"R\", \"tweets\": \"yes\", \"phd\": \"yes\"}, False),\n",
    "    ({\"level\": \"Mid\", \"lang\": \"R\", \"tweets\": \"yes\", \"phd\": \"yes\"}, True),\n",
    "    ({\"level\": \"Senior\", \"lang\": \"Python\", \"tweets\": \"no\", \"phd\": \"no\"}, False),\n",
    "    ({\"level\": \"Senior\", \"lang\": \"R\", \"tweets\": \"yes\", \"phd\": \"no\"}, True),\n",
    "    ({\"level\": \"Junior\", \"lang\": \"Python\", \"tweets\": \"yes\", \"phd\": \"no\"}, True),\n",
    "    ({\"level\": \"Senior\", \"lang\": \"Python\", \"tweets\": \"yes\", \"phd\": \"yes\"}, True),\n",
    "    ({\"level\": \"Mid\", \"lang\": \"Python\", \"tweets\": \"no\", \"phd\": \"yes\"}, True),\n",
    "    ({\"level\": \"Mid\", \"lang\": \"Java\", \"tweets\": \"yes\", \"phd\": \"no\"}, True),\n",
    "    ({\"level\": \"Junior\", \"lang\": \"Python\", \"tweets\": \"no\", \"phd\": \"yes\"}, False),\n",
    "]"
   ]
  },
  {
   "cell_type": "code",
   "execution_count": 3,
   "id": "6cdf918b",
   "metadata": {},
   "outputs": [
    {
     "name": "stdout",
     "output_type": "stream",
     "text": [
      "Number of data: 14\n"
     ]
    }
   ],
   "source": [
    "print(\"Number of data:\", len(dummy_data))"
   ]
  },
  {
   "cell_type": "code",
   "execution_count": 4,
   "id": "272e4d11",
   "metadata": {},
   "outputs": [
    {
     "name": "stdout",
     "output_type": "stream",
     "text": [
      "features: {'level': 'Senior', 'lang': 'Java', 'tweets': 'no', 'phd': 'no'}\n",
      "label: False\n"
     ]
    }
   ],
   "source": [
    "#Sample\n",
    "\n",
    "sample = dummy_data[0]\n",
    "\n",
    "print(\"features:\", sample[0])\n",
    "print(\"label:\", sample[1])"
   ]
  },
  {
   "cell_type": "code",
   "execution_count": 5,
   "id": "640e44f4",
   "metadata": {},
   "outputs": [
    {
     "name": "stdout",
     "output_type": "stream",
     "text": [
      "values in level: ['Senior', 'Senior', 'Mid', 'Junior', 'Junior', 'Junior', 'Mid', 'Senior', 'Senior', 'Junior', 'Senior', 'Mid', 'Mid', 'Junior']\n",
      "unique values in level: ['Mid', 'Junior', 'Senior']\n",
      "number of unique values in level: 3\n"
     ]
    }
   ],
   "source": [
    "#Unique Value\n",
    "\n",
    "features = [pair[0] for pair in dummy_data]\n",
    "levels = [feature[\"level\"] for feature in features]\n",
    "unique_levels = list(set(levels))\n",
    "\n",
    "print(\"values in level:\", levels)\n",
    "print(\"unique values in level:\", unique_levels)\n",
    "print(\"number of unique values in level:\", len(unique_levels))"
   ]
  },
  {
   "cell_type": "code",
   "execution_count": 6,
   "id": "eadd21eb",
   "metadata": {},
   "outputs": [
    {
     "name": "stdout",
     "output_type": "stream",
     "text": [
      "freq of each values: {'Senior': 5, 'Mid': 4, 'Junior': 5}\n",
      "mode: {'Senior': 5, 'Junior': 5}\n"
     ]
    }
   ],
   "source": [
    "#Modus\n",
    "\n",
    "dict_level_count = {}\n",
    "\n",
    "for value in levels:\n",
    "    if value not in dict_level_count.keys():\n",
    "        dict_level_count[value] = 1\n",
    "    else:\n",
    "        dict_level_count[value] += 1\n",
    "\n",
    "max_level_freq = max(dict_level_count.values())\n",
    "modes = {\n",
    "    level: mode\n",
    "    for level, mode in dict_level_count.items()\n",
    "    if mode == max_level_freq\n",
    "}\n",
    "\n",
    "print(\"freq of each values:\", dict_level_count)\n",
    "print(\"mode:\", modes)"
   ]
  },
  {
   "cell_type": "markdown",
   "id": "529d828b",
   "metadata": {},
   "source": [
    "## Model"
   ]
  },
  {
   "cell_type": "code",
   "execution_count": 7,
   "id": "bea3e8c8",
   "metadata": {},
   "outputs": [],
   "source": [
    "#DataDummy\n",
    "\n",
    "def entropy(class_probabilites):\n",
    "    \"Calculate the entropy of the given list of class probabilites\"\n",
    "    return sum(\n",
    "        -p * np.log2(p)\n",
    "        for p in class_probabilites if p\n",
    "    )\n",
    "\n",
    "\n",
    "def class_probabilities(labels):\n",
    "    \"Calculate given class/target variable probabilites\"\n",
    "    total_count = len(labels)\n",
    "    return [\n",
    "        count / total_count\n",
    "        for count in Counter(labels).values()\n",
    "    ]\n",
    "\n",
    "\n",
    "def data_entropy(labeled_data):\n",
    "    \"Calculate entropy of a feature with a corresponding labels\"\n",
    "    labels = [label for _, label in labeled_data]\n",
    "    probabilities = class_probabilities(labels)\n",
    "    return entropy(probabilities)\n",
    "\n",
    "\n",
    "def partition_entropy(subsets):\n",
    "    \"\"\"Calculate entropy from partition of data into subsets.\n",
    "\n",
    "    Subsets is a list of lists of labeled data.\n",
    "    \"\"\"\n",
    "    total_count = sum(len(subset) for subset in subsets)\n",
    "    return sum(\n",
    "        data_entropy(subset) * len(subset) / total_count\n",
    "        for subset in subsets\n",
    "    )\n",
    "\n",
    "\n",
    "def partition_by(inputs, attribute):\n",
    "    \"\"\"each input is a pair (attribute_dict, label).\n",
    "    \n",
    "    Returns a dict : feature_value -> inputs\n",
    "    \"\"\"\n",
    "    groups = defaultdict(list)\n",
    "    for input in inputs:\n",
    "        key = input[0][attribute] # get the value of the specified attribute\n",
    "        groups[key].append(input) # then add this input to the correct list\n",
    "    return groups\n",
    "\n",
    "\n",
    "def partition_entropy_by(inputs, attribute):\n",
    "    \"\"\"computes the entropy corresponding to the given partition\"\"\"\n",
    "    partitions = partition_by(inputs, attribute)\n",
    "    return partition_entropy(partitions.values())"
   ]
  },
  {
   "cell_type": "code",
   "execution_count": 8,
   "id": "fda9ca08",
   "metadata": {},
   "outputs": [
    {
     "name": "stdout",
     "output_type": "stream",
     "text": [
      "label entropy: 0.9402859586706311\n",
      "entropy:\n",
      "level : 0.6935361388961919\n",
      "lang : 0.8601317128547441\n",
      "tweets : 0.7884504573082896\n",
      "phd : 0.8921589282623617\n"
     ]
    }
   ],
   "source": [
    "label_entropy = data_entropy(dummy_data)\n",
    "print(\"label entropy:\", label_entropy)\n",
    "\n",
    "print(\"entropy:\")\n",
    "for feature in [\"level\", \"lang\", \"tweets\", \"phd\"]:\n",
    "    print(feature, \":\", partition_entropy_by(dummy_data, feature))\n",
    "    \n",
    "#Ketika entrophy makin kecil maka ketidakpastiannya juga makin kecil sehingga menandakan kepastiannya besar"
   ]
  },
  {
   "cell_type": "code",
   "execution_count": 9,
   "id": "15770429",
   "metadata": {},
   "outputs": [
    {
     "data": {
      "text/html": [
       "<div>\n",
       "<style scoped>\n",
       "    .dataframe tbody tr th:only-of-type {\n",
       "        vertical-align: middle;\n",
       "    }\n",
       "\n",
       "    .dataframe tbody tr th {\n",
       "        vertical-align: top;\n",
       "    }\n",
       "\n",
       "    .dataframe thead th {\n",
       "        text-align: right;\n",
       "    }\n",
       "</style>\n",
       "<table border=\"1\" class=\"dataframe\">\n",
       "  <thead>\n",
       "    <tr style=\"text-align: right;\">\n",
       "      <th></th>\n",
       "      <th>label</th>\n",
       "    </tr>\n",
       "    <tr>\n",
       "      <th>level</th>\n",
       "      <th></th>\n",
       "    </tr>\n",
       "  </thead>\n",
       "  <tbody>\n",
       "    <tr>\n",
       "      <th>Junior</th>\n",
       "      <td>[True, True, False, True, False]</td>\n",
       "    </tr>\n",
       "    <tr>\n",
       "      <th>Mid</th>\n",
       "      <td>[True, True, True, True]</td>\n",
       "    </tr>\n",
       "    <tr>\n",
       "      <th>Senior</th>\n",
       "      <td>[False, False, False, True, True]</td>\n",
       "    </tr>\n",
       "  </tbody>\n",
       "</table>\n",
       "</div>"
      ],
      "text/plain": [
       "                                    label\n",
       "level                                    \n",
       "Junior   [True, True, False, True, False]\n",
       "Mid              [True, True, True, True]\n",
       "Senior  [False, False, False, True, True]"
      ]
     },
     "execution_count": 9,
     "metadata": {},
     "output_type": "execute_result"
    }
   ],
   "source": [
    "split_by_level = pd.DataFrame(\n",
    "    [\n",
    "     (value, labels)\n",
    "     for features, labels in dummy_data\n",
    "     for feat, value in features.items()\n",
    "     if feat == \"level\"\n",
    "    ],\n",
    "    columns=[\"level\", \"label\"]\n",
    ")\n",
    "split_by_level.groupby(\"level\").agg({\"label\": list})"
   ]
  },
  {
   "cell_type": "code",
   "execution_count": 10,
   "id": "cb5fcedb",
   "metadata": {},
   "outputs": [
    {
     "name": "stdout",
     "output_type": "stream",
     "text": [
      "split by senior value:\n",
      "[({'lang': 'Java', 'level': 'Senior', 'phd': 'no', 'tweets': 'no'}, False),\n",
      " ({'lang': 'Java', 'level': 'Senior', 'phd': 'yes', 'tweets': 'no'}, False),\n",
      " ({'lang': 'Python', 'level': 'Senior', 'phd': 'no', 'tweets': 'no'}, False),\n",
      " ({'lang': 'R', 'level': 'Senior', 'phd': 'no', 'tweets': 'yes'}, True),\n",
      " ({'lang': 'Python', 'level': 'Senior', 'phd': 'yes', 'tweets': 'yes'}, True)]\n",
      "lang 0.4\n",
      "tweets 0.0\n",
      "phd 0.9509775004326938\n"
     ]
    }
   ],
   "source": [
    "senior_inputs = [\n",
    "    (input, label)\n",
    "    for input, label in dummy_data\n",
    "    if input[\"level\"] == \"Senior\"\n",
    "]\n",
    "print(\"split by senior value:\")\n",
    "pprint(senior_inputs)\n",
    "\n",
    "for feature in ['lang', 'tweets', 'phd']:\n",
    "    print(feature, partition_entropy_by(senior_inputs, feature))"
   ]
  },
  {
   "cell_type": "code",
   "execution_count": 11,
   "id": "f5ac0732",
   "metadata": {},
   "outputs": [
    {
     "data": {
      "text/html": [
       "<div>\n",
       "<style scoped>\n",
       "    .dataframe tbody tr th:only-of-type {\n",
       "        vertical-align: middle;\n",
       "    }\n",
       "\n",
       "    .dataframe tbody tr th {\n",
       "        vertical-align: top;\n",
       "    }\n",
       "\n",
       "    .dataframe thead th {\n",
       "        text-align: right;\n",
       "    }\n",
       "</style>\n",
       "<table border=\"1\" class=\"dataframe\">\n",
       "  <thead>\n",
       "    <tr style=\"text-align: right;\">\n",
       "      <th></th>\n",
       "      <th>label</th>\n",
       "    </tr>\n",
       "    <tr>\n",
       "      <th>phd</th>\n",
       "      <th></th>\n",
       "    </tr>\n",
       "  </thead>\n",
       "  <tbody>\n",
       "    <tr>\n",
       "      <th>no</th>\n",
       "      <td>[False, True, True, True, False, True, True, T...</td>\n",
       "    </tr>\n",
       "    <tr>\n",
       "      <th>yes</th>\n",
       "      <td>[False, False, True, True, True, False]</td>\n",
       "    </tr>\n",
       "  </tbody>\n",
       "</table>\n",
       "</div>"
      ],
      "text/plain": [
       "                                                 label\n",
       "phd                                                   \n",
       "no   [False, True, True, True, False, True, True, T...\n",
       "yes            [False, False, True, True, True, False]"
      ]
     },
     "execution_count": 11,
     "metadata": {},
     "output_type": "execute_result"
    }
   ],
   "source": [
    "split_by_phd = pd.DataFrame(\n",
    "    [\n",
    "     (value, labels)\n",
    "     for features, labels in dummy_data\n",
    "     for feat, value in features.items()\n",
    "     if feat == \"phd\"\n",
    "    ],\n",
    "    columns=[\"phd\", \"label\"]\n",
    ")\n",
    "split_by_phd.groupby(\"phd\").agg({\"label\": list})"
   ]
  },
  {
   "cell_type": "markdown",
   "id": "5aab86c8",
   "metadata": {},
   "source": [
    "#### Setelah mencoba menghitung secara manual satu per satu fitur-fitur pada data dummy, kita akan membuat model Decision Tree yang akan menghitung nilai entropy seperti di atas untuk setiap fitur secara otomatis menggunakan fungsi berikut."
   ]
  },
  {
   "cell_type": "code",
   "execution_count": 12,
   "id": "cbcf9ac3",
   "metadata": {},
   "outputs": [],
   "source": [
    "def build_tree(inputs, split_candidates=None):\n",
    "    # if this is our first pass,\n",
    "    # all keys of the first input are split candidates\n",
    "    if split_candidates is None:\n",
    "        split_candidates = inputs[0][0].keys()\n",
    "\n",
    "    # count Trues and Falses in the inputs\n",
    "    num_inputs = len(inputs)\n",
    "    num_trues = len([label for item, label in inputs if label])\n",
    "    num_falses = num_inputs - num_trues\n",
    "\n",
    "    # no True(s)? return \"False\" leaf\n",
    "    if num_trues == 0:\n",
    "        return False\n",
    "    # no False(s)? return \"True\" leaf\n",
    "    if num_falses == 0:\n",
    "        return True\n",
    "    # if no split candidates left,\n",
    "    # return the majority leaf\n",
    "    if not split_candidates:\n",
    "        return num_trues >= num_falses\n",
    "\n",
    "    # otherwise, split on the best attribute\n",
    "    best_attribute = min(\n",
    "        split_candidates,\n",
    "        key=partial(partition_entropy_by, inputs)\n",
    "    )\n",
    "    partitions = partition_by(inputs, best_attribute)\n",
    "    new_candidates = [a for a in split_candidates if a != best_attribute]\n",
    "\n",
    "    # recursively build the subtrees\n",
    "    subtrees = {\n",
    "        attribute_value: build_tree(subset, new_candidates)\n",
    "        for attribute_value, subset in partitions.items()\n",
    "    }\n",
    "    subtrees[None] = num_trues > num_falses # default case\n",
    "    return (best_attribute, subtrees)\n",
    "\n",
    "\n",
    "def classify(tree, input):\n",
    "    \"\"\"classify the input using the given decision tree\"\"\"\n",
    "    # if this is a leaf node, return its value\n",
    "    if tree in [True, False]:\n",
    "        return tree\n",
    "\n",
    "    # otherwise this tree consists of an attribute to split on\n",
    "    # and a dictionary whose keys are values of that attribute\n",
    "    # and whose values of are subtrees to consider next\n",
    "    attribute, subtree_dict = tree\n",
    "\n",
    "    # None if input is missing attribute\n",
    "    subtree_key = input.get(attribute)\n",
    "    # if no subtree for key, we'll use the None subtree\n",
    "    if subtree_key not in subtree_dict:\n",
    "        subtree_key = None\n",
    "    # choose the appropriate subtree, and use it to classify the input\n",
    "    subtree = subtree_dict[subtree_key]\n",
    "    return classify(subtree, input)"
   ]
  },
  {
   "cell_type": "code",
   "execution_count": 13,
   "id": "49550df6",
   "metadata": {},
   "outputs": [
    {
     "data": {
      "text/plain": [
       "('level',\n",
       " {'Senior': ('tweets', {'no': False, 'yes': True, None: False}),\n",
       "  'Mid': True,\n",
       "  'Junior': ('phd', {'no': True, 'yes': False, None: True}),\n",
       "  None: True})"
      ]
     },
     "execution_count": 13,
     "metadata": {},
     "output_type": "execute_result"
    }
   ],
   "source": [
    "tree = build_tree(dummy_data)\n",
    "tree"
   ]
  },
  {
   "cell_type": "code",
   "execution_count": 14,
   "id": "cc7bed62",
   "metadata": {},
   "outputs": [
    {
     "name": "stdout",
     "output_type": "stream",
     "text": [
      "False (False)\n",
      "False (False)\n",
      "True (True)\n",
      "True (True)\n",
      "True (True)\n",
      "False (False)\n",
      "True (True)\n",
      "False (False)\n",
      "True (True)\n",
      "True (True)\n",
      "True (True)\n",
      "True (True)\n",
      "True (True)\n",
      "False (False)\n"
     ]
    }
   ],
   "source": [
    "for test, target in dummy_data:\n",
    "    print(classify(tree, test), f\"({target})\")"
   ]
  },
  {
   "cell_type": "code",
   "execution_count": 15,
   "id": "e2a4e17c",
   "metadata": {},
   "outputs": [
    {
     "data": {
      "text/plain": [
       "True"
      ]
     },
     "execution_count": 15,
     "metadata": {},
     "output_type": "execute_result"
    }
   ],
   "source": [
    "sample = {\n",
    "    \"level\": \"Junior\",\n",
    "    \"lang\": \"Python\",\n",
    "}\n",
    "classify(tree, sample)"
   ]
  },
  {
   "cell_type": "code",
   "execution_count": null,
   "id": "be0173d0",
   "metadata": {},
   "outputs": [],
   "source": []
  }
 ],
 "metadata": {
  "kernelspec": {
   "display_name": "Python 3",
   "language": "python",
   "name": "python3"
  },
  "language_info": {
   "codemirror_mode": {
    "name": "ipython",
    "version": 3
   },
   "file_extension": ".py",
   "mimetype": "text/x-python",
   "name": "python",
   "nbconvert_exporter": "python",
   "pygments_lexer": "ipython3",
   "version": "3.8.8"
  }
 },
 "nbformat": 4,
 "nbformat_minor": 5
}
